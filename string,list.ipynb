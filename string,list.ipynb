{
  "nbformat": 4,
  "nbformat_minor": 0,
  "metadata": {
    "colab": {
      "provenance": [],
      "authorship_tag": "ABX9TyOHlH1q2xA+qszQn6+f6PTE",
      "include_colab_link": true
    },
    "kernelspec": {
      "name": "python3",
      "display_name": "Python 3"
    },
    "language_info": {
      "name": "python"
    }
  },
  "cells": [
    {
      "cell_type": "markdown",
      "metadata": {
        "id": "view-in-github",
        "colab_type": "text"
      },
      "source": [
        "<a href=\"https://colab.research.google.com/github/Aaryan-Dhillon/DSA-Python-/blob/main/string%2Clist.ipynb\" target=\"_parent\"><img src=\"https://colab.research.google.com/assets/colab-badge.svg\" alt=\"Open In Colab\"/></a>"
      ]
    },
    {
      "cell_type": "code",
      "source": [
        "#string\n",
        "str1 = \"This is string \"\n",
        "str2 = \"This is tut\"\n",
        "print(str1+str2)"
      ],
      "metadata": {
        "colab": {
          "base_uri": "https://localhost:8080/"
        },
        "id": "mYYZHMe2aRdm",
        "outputId": "3d575e9c-1d06-4dce-93a0-db3f3d946291"
      },
      "execution_count": 1,
      "outputs": [
        {
          "output_type": "stream",
          "name": "stdout",
          "text": [
            "This is string This is tut\n"
          ]
        }
      ]
    },
    {
      "cell_type": "code",
      "source": [
        "#string,remeber it also count spaces\n",
        "str1 = \"This is string\"\n",
        "len1 = len(str1)\n",
        "print(len1)\n",
        "\n",
        "#index form we can only acces the characters\n",
        "str3 =\"This is Mad World\"\n",
        "ch =str3[5]\n",
        "#str3[5]= \"@\" not possible in this\n",
        "print(ch)\n",
        "\n",
        "#slicing\n",
        "print(str3[0:5])\n",
        "# there is one way to go till last index\n",
        "print(str3[0:len(str3)])\n",
        "\n"
      ],
      "metadata": {
        "colab": {
          "base_uri": "https://localhost:8080/"
        },
        "id": "rxO_fcHsatlY",
        "outputId": "5e3a5d01-679b-4d31-912c-fe875e4830f2"
      },
      "execution_count": 5,
      "outputs": [
        {
          "output_type": "stream",
          "name": "stdout",
          "text": [
            "14\n",
            "i\n",
            "This \n",
            "This is Mad World\n"
          ]
        }
      ]
    },
    {
      "cell_type": "code",
      "source": [
        "str =\"i am studying here python\"\n",
        "print(str.endswith(\"on\"))\n",
        "print(str.capitalize())\n",
        "# if want to change to originaL STRING\n",
        "str =(str.capitalize())\n",
        "print(str)\n",
        "#want to replace\n",
        "print(str.replace(\"o\",\"a\"))\n",
        "print(str.replace(\"a\",\"o\"))\n",
        "print(str.replace(\"here\",\"khin se nhi\"))\n",
        "# return the first occurence of python\n",
        "print(str.find(\"python\"))\n",
        "#count tell the frequency of particular word\n",
        "print(str.count(\"python\"))\n",
        "\n",
        "#conditional\n",
        "marks = int(input(\"Enter the Marks:\"))\n",
        "if (marks>=90):\n",
        "  print(\"Grade D\")\n",
        "elif (marks>=85 and marks < 89):\n",
        "  print(\"Grade C\")\n",
        "elif(marks <70):\n",
        "  print(\"chod de bhai pdai\")\n",
        "\n",
        "\n",
        "\n"
      ],
      "metadata": {
        "colab": {
          "base_uri": "https://localhost:8080/"
        },
        "id": "kjcgcTwhfONm",
        "outputId": "b6d5242f-f22a-46cc-c653-87dcf4cd994f"
      },
      "execution_count": 18,
      "outputs": [
        {
          "output_type": "stream",
          "name": "stdout",
          "text": [
            "True\n",
            "I am studying here python\n",
            "I am studying here python\n",
            "I am studying here pythan\n",
            "I om studying here python\n",
            "I am studying khin se nhi python\n",
            "19\n",
            "1\n",
            "Enter the Marks:66\n",
            "chod de bhai pdai\n"
          ]
        }
      ]
    },
    {
      "cell_type": "code",
      "source": [
        "#THis cell consit python lec 3 list and tuple\n",
        "#list\n",
        "my_list =[34,54,45,43,234]\n",
        "print(len(my_list))\n",
        "print(my_list[0])\n",
        "print(my_list)\n",
        "# ! important that list are mutable but strings are immutable\n",
        "student = [\"aaryan\",23,\"ambala cantt\"]\n",
        "student[0]= \"Arjun\"\n",
        "print(student[0])\n",
        "\n",
        "#list slicing same work as of string\n",
        "print(my_list[0:])\n",
        "print(my_list[0:2])\n",
        "print(my_list[-3:-1])\n",
        "\n",
        "#list methods\n",
        "print(my_list.append(4)) # these function don't return anything , but they do appednd changes , in append is done at last\n",
        "print(my_list)\n",
        "#sort\n",
        "print(my_list.sort()) #ascending sorting\n",
        "print(my_list)\n",
        "print(my_list.sort(reverse=True))\n",
        "print(my_list)\n",
        "#reverse\n",
        "my_list.reverse()\n",
        "print(my_list)\n",
        "#insert : done t particu;ar location\n",
        "my_list.insert(1,69.69)\n",
        "print(my_list)\n",
        "\n",
        "# same like this remove:remove first occurence of element, pop: remove all the element presence\n",
        "\n",
        "#tuple starts from here,a built in data type which are immutable\n",
        "tup = (33,45,44,21,33,21)\n",
        "print(tup)\n",
        "print(type(tup))\n",
        "\n",
        "var = (1,)\n",
        "var1 = (1)\n",
        "print(type(var))\n",
        "print(type(var1))\n",
        "\n",
        "#tuple methods\n",
        "print(tup.index(33)) # return the first occurence of tuple index\n",
        "print(tup.count(33))#return occurence of particluar in tuple\n",
        "\n",
        "#wap to take input 3 favorite movies and store them in list\n",
        "movie1 = input(\"Enter the first movie\")\n",
        "movie2 = input(\"Enter the second movie\")\n",
        "movie3 = input(\"Enter the third movie\")\n",
        "movie_list = [movie1,movie2,movie3]\n",
        "print(movie_list)\n",
        "\n"
      ],
      "metadata": {
        "colab": {
          "base_uri": "https://localhost:8080/"
        },
        "id": "UNpDgx0HoBZd",
        "outputId": "2c14ae47-e15b-4b08-874e-44fedc4e5cb4"
      },
      "execution_count": 47,
      "outputs": [
        {
          "output_type": "stream",
          "name": "stdout",
          "text": [
            "5\n",
            "34\n",
            "[34, 54, 45, 43, 234]\n",
            "Arjun\n",
            "[34, 54, 45, 43, 234]\n",
            "[34, 54]\n",
            "[45, 43]\n",
            "None\n",
            "[34, 54, 45, 43, 234, 4]\n",
            "None\n",
            "[4, 34, 43, 45, 54, 234]\n",
            "None\n",
            "[234, 54, 45, 43, 34, 4]\n",
            "[4, 34, 43, 45, 54, 234]\n",
            "[4, 69.69, 34, 43, 45, 54, 234]\n",
            "(33, 45, 44, 21, 33, 21)\n",
            "<class 'tuple'>\n",
            "<class 'tuple'>\n",
            "<class 'int'>\n",
            "0\n",
            "2\n",
            "Enter the first moviekal ho na ho\n",
            "Enter the second movie kfjdas\n",
            "Enter the third moviejfadklsjf\n",
            "['kal ho na ho', ' kfjdas', 'jfadklsjf']\n"
          ]
        }
      ]
    },
    {
      "cell_type": "code",
      "source": [],
      "metadata": {
        "id": "kQ-LzWW15sYj"
      },
      "execution_count": null,
      "outputs": []
    }
  ]
}