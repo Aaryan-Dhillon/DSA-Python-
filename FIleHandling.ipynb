{
  "nbformat": 4,
  "nbformat_minor": 0,
  "metadata": {
    "colab": {
      "provenance": [],
      "authorship_tag": "ABX9TyMW9wo2ITBtKyHBXE476SE+",
      "include_colab_link": true
    },
    "kernelspec": {
      "name": "python3",
      "display_name": "Python 3"
    },
    "language_info": {
      "name": "python"
    }
  },
  "cells": [
    {
      "cell_type": "markdown",
      "metadata": {
        "id": "view-in-github",
        "colab_type": "text"
      },
      "source": [
        "<a href=\"https://colab.research.google.com/github/Aaryan-Dhillon/DSA-Python-/blob/main/FIleHandling.ipynb\" target=\"_parent\"><img src=\"https://colab.research.google.com/assets/colab-badge.svg\" alt=\"Open In Colab\"/></a>"
      ]
    },
    {
      "cell_type": "code",
      "execution_count": null,
      "metadata": {
        "id": "caA4uwTYTUpb"
      },
      "outputs": [],
      "source": [
        "#opeining a file\n",
        "file =open(\"filename.txt\",mode)\n",
        "\n",
        "#Reading files\n",
        "with open(\"example.txt\",\"r\") as file:\n",
        "  content = file.read()\n",
        "  print(content)\n",
        "\n",
        "  #readline():\n",
        "  with open(\"example.txt\",\"r\") as file:\n",
        "    line = file.readline()\n",
        "    print(line)\n",
        "\n",
        "  #readlines\n",
        "  with open(\"example.txt\",\"r\") as file:\n",
        "    lines = file.readlines()\n",
        "    print(lines)\n",
        "\n",
        "#write functions , in exiting file\n",
        "with open (\"output.txt\",\"w\") as file:\n",
        "  file.write(\"hi,duniya \\n\")\n",
        "\n",
        "# 2. writelines(), writes a list of Strings to the file.Does not automaticall add new line, also append is there change \"w\" to \"a\"\n",
        "with open(\"output.txt\", \"w\") as file:\n",
        "  file.writelines(\"hhhfd dhfh \\n\")\n",
        "\n",
        "  #3. seek()\n",
        "  with open(\"example .txt\",\"r\") as file:\n",
        "    file.seek(5) #move to 5th byte\n",
        "    content =file.read()\n",
        "\n",
        "    #file operation to check if exits or not\n",
        "    import os\n",
        "    if os.path.exits(\"example.txt\"):\n",
        "      print(\"File exits\")\n",
        "\n",
        "      # Q2024 aktu last year , construct a program which accets a sequence of words separated by whitespace as file input. Print the words composed of digits only\n"
      ]
    }
  ]
}